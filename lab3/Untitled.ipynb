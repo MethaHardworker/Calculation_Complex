{
  "nbformat": 4,
  "nbformat_minor": 0,
  "metadata": {
    "kernelspec": {
      "display_name": "Python 3",
      "language": "python",
      "name": "python3"
    },
    "language_info": {
      "codemirror_mode": {
        "name": "ipython",
        "version": 3
      },
      "file_extension": ".py",
      "mimetype": "text/x-python",
      "name": "python",
      "nbconvert_exporter": "python",
      "pygments_lexer": "ipython3",
      "version": "3.8.3"
    },
    "colab": {
      "name": "Untitled.ipynb",
      "provenance": [],
      "collapsed_sections": []
    }
  },
  "cells": [
    {
      "cell_type": "code",
      "metadata": {
        "id": "AcDeWwWjaWop"
      },
      "source": [
        "import numpy as np\n",
        "import matplotlib.pyplot as plt\n",
        "from matplotlib import cm\n",
        "from mpl_toolkits.mplot3d import Axes3D\n",
        "from tqdm import tqdm\n",
        "\n",
        "def draw_tol_plot():\n",
        "    #  Функция для изображения графика распознающего функционала\n",
        "    #  использует функцию calcfg из tolsolvty для подсчета значения\n",
        "    x = np.arange(-1, 1, 0.01)\n",
        "    y = np.arange(-1, 1, 0.01)\n",
        "    z = np.zeros((x.shape[0], y.shape[0]))\n",
        "    for i in range(x.shape[0]):\n",
        "        for j in range(y.shape[0]):\n",
        "            vec = np.array([[x[i]], [y[j]]])\n",
        "            z[i, j] = calcfg(vec)\n",
        "\n",
        "    #fig = plt.figure()\n",
        "    #ax = fig.add_subplot(111, projection='3d')\n",
        "    #ax.view_init(30, 100)\n",
        "    fig = go.Figure(data=[go.Surface(z=z, x=x, y=y)])\n",
        "    # ax.plot([0], [-0.06], [z[100, 94]], markerfacecolor='c', markeredgecolor='c', marker='*', markersize=10)\n",
        "    #print(z[100, 94])\n",
        "    fig.update_layout(   xaxis_title=\"X1\",\n",
        "                         yaxis_title=\"X2\",\n",
        "                         title=\"Tol(X1,X2)\")\n",
        "\n",
        "    fig.show()"
      ],
      "execution_count": 32,
      "outputs": []
    },
    {
      "cell_type": "code",
      "metadata": {
        "id": "DGZOejXpaWos"
      },
      "source": [
        "def calcfg(x):\n",
        "        #\n",
        "        #   функция, которая вычисляет значение f максимизируемого распознающего\n",
        "        #   функционала и его суперградиент g;  кроме того, она выдаёт вектор tt\n",
        "        #   из значений образующих функционала в данной точке аргумента\n",
        "        #\n",
        "\n",
        "        absx = abs(x)\n",
        "\n",
        "        Acx = Ac @ x\n",
        "        Arabsx = Ar @ absx\n",
        "\n",
        "        infs = bc - (Acx - Arabsx)\n",
        "        sups = bc - (Acx + Arabsx)\n",
        "\n",
        "        tt = weight * (br - np.maximum(abs(infs), abs(sups)))\n",
        "    \n",
        "        mc = np.argmin(tt)\n",
        "        f = tt[mc]\n",
        "        return f"
      ],
      "execution_count": 33,
      "outputs": []
    },
    {
      "cell_type": "code",
      "metadata": {
        "id": "I72JK3_vaWow"
      },
      "source": [
        "infAT = infA.T\n",
        "supAT = supA.T\n",
        "infbT = infb.T\n",
        "supbT = infb.T"
      ],
      "execution_count": 38,
      "outputs": []
    },
    {
      "cell_type": "code",
      "metadata": {
        "id": "s_gQHOECaWow"
      },
      "source": [
        "Ac = 0.5 * (infAT + supAT)\n",
        "Ar = 0.5 * (supAT - infAT)\n",
        "bc = 0.5 * (infbT + supbT)\n",
        "br = 0.5 * (supbT - infbT)"
      ],
      "execution_count": 39,
      "outputs": []
    },
    {
      "cell_type": "code",
      "metadata": {
        "id": "n2XbMD6HaWox"
      },
      "source": [
        "m = np.size(supAT, 0)\n",
        "weight = np.ones((m, 1))"
      ],
      "execution_count": 40,
      "outputs": []
    },
    {
      "cell_type": "code",
      "metadata": {
        "scrolled": false,
        "id": "XOJ0FDZFaWox",
        "colab": {
          "base_uri": "https://localhost:8080/",
          "height": 286
        },
        "outputId": "472864bf-a236-4165-8179-36a215fe3a8d"
      },
      "source": [
        "draw_tol_plot()"
      ],
      "execution_count": 41,
      "outputs": [
        {
          "output_type": "error",
          "ename": "IndexError",
          "evalue": "ignored",
          "traceback": [
            "\u001b[0;31m---------------------------------------------------------------------------\u001b[0m",
            "\u001b[0;31mIndexError\u001b[0m                                Traceback (most recent call last)",
            "\u001b[0;32m<ipython-input-41-a8e4afe024d9>\u001b[0m in \u001b[0;36m<module>\u001b[0;34m()\u001b[0m\n\u001b[0;32m----> 1\u001b[0;31m \u001b[0mdraw_tol_plot\u001b[0m\u001b[0;34m(\u001b[0m\u001b[0;34m)\u001b[0m\u001b[0;34m\u001b[0m\u001b[0;34m\u001b[0m\u001b[0m\n\u001b[0m",
            "\u001b[0;32m<ipython-input-32-4520767231ae>\u001b[0m in \u001b[0;36mdraw_tol_plot\u001b[0;34m()\u001b[0m\n\u001b[1;32m     14\u001b[0m         \u001b[0;32mfor\u001b[0m \u001b[0mj\u001b[0m \u001b[0;32min\u001b[0m \u001b[0mrange\u001b[0m\u001b[0;34m(\u001b[0m\u001b[0my\u001b[0m\u001b[0;34m.\u001b[0m\u001b[0mshape\u001b[0m\u001b[0;34m[\u001b[0m\u001b[0;36m0\u001b[0m\u001b[0;34m]\u001b[0m\u001b[0;34m)\u001b[0m\u001b[0;34m:\u001b[0m\u001b[0;34m\u001b[0m\u001b[0;34m\u001b[0m\u001b[0m\n\u001b[1;32m     15\u001b[0m             \u001b[0mvec\u001b[0m \u001b[0;34m=\u001b[0m \u001b[0mnp\u001b[0m\u001b[0;34m.\u001b[0m\u001b[0marray\u001b[0m\u001b[0;34m(\u001b[0m\u001b[0;34m[\u001b[0m\u001b[0;34m[\u001b[0m\u001b[0mx\u001b[0m\u001b[0;34m[\u001b[0m\u001b[0mi\u001b[0m\u001b[0;34m]\u001b[0m\u001b[0;34m]\u001b[0m\u001b[0;34m,\u001b[0m \u001b[0;34m[\u001b[0m\u001b[0my\u001b[0m\u001b[0;34m[\u001b[0m\u001b[0mj\u001b[0m\u001b[0;34m]\u001b[0m\u001b[0;34m]\u001b[0m\u001b[0;34m]\u001b[0m\u001b[0;34m)\u001b[0m\u001b[0;34m\u001b[0m\u001b[0;34m\u001b[0m\u001b[0m\n\u001b[0;32m---> 16\u001b[0;31m             \u001b[0mz\u001b[0m\u001b[0;34m[\u001b[0m\u001b[0mi\u001b[0m\u001b[0;34m,\u001b[0m \u001b[0mj\u001b[0m\u001b[0;34m]\u001b[0m \u001b[0;34m=\u001b[0m \u001b[0mcalcfg\u001b[0m\u001b[0;34m(\u001b[0m\u001b[0mvec\u001b[0m\u001b[0;34m)\u001b[0m\u001b[0;34m\u001b[0m\u001b[0;34m\u001b[0m\u001b[0m\n\u001b[0m\u001b[1;32m     17\u001b[0m \u001b[0;34m\u001b[0m\u001b[0m\n\u001b[1;32m     18\u001b[0m     \u001b[0;31m#fig = plt.figure()\u001b[0m\u001b[0;34m\u001b[0m\u001b[0;34m\u001b[0m\u001b[0;34m\u001b[0m\u001b[0m\n",
            "\u001b[0;32m<ipython-input-33-28bead98503f>\u001b[0m in \u001b[0;36mcalcfg\u001b[0;34m(x)\u001b[0m\n\u001b[1;32m     17\u001b[0m \u001b[0;34m\u001b[0m\u001b[0m\n\u001b[1;32m     18\u001b[0m         \u001b[0mmc\u001b[0m \u001b[0;34m=\u001b[0m \u001b[0mnp\u001b[0m\u001b[0;34m.\u001b[0m\u001b[0margmin\u001b[0m\u001b[0;34m(\u001b[0m\u001b[0mtt\u001b[0m\u001b[0;34m)\u001b[0m\u001b[0;34m\u001b[0m\u001b[0;34m\u001b[0m\u001b[0m\n\u001b[0;32m---> 19\u001b[0;31m         \u001b[0mf\u001b[0m \u001b[0;34m=\u001b[0m \u001b[0mtt\u001b[0m\u001b[0;34m[\u001b[0m\u001b[0mmc\u001b[0m\u001b[0;34m]\u001b[0m\u001b[0;34m\u001b[0m\u001b[0;34m\u001b[0m\u001b[0m\n\u001b[0m\u001b[1;32m     20\u001b[0m         \u001b[0;32mreturn\u001b[0m \u001b[0mf\u001b[0m\u001b[0;34m\u001b[0m\u001b[0;34m\u001b[0m\u001b[0m\n",
            "\u001b[0;31mIndexError\u001b[0m: index 3 is out of bounds for axis 0 with size 3"
          ]
        }
      ]
    },
    {
      "cell_type": "code",
      "metadata": {
        "id": "0SX4azeyaWoy"
      },
      "source": [
        "import plotly.graph_objects as go\r\n",
        "from tolsolvty import tolsolvty"
      ],
      "execution_count": 21,
      "outputs": []
    },
    {
      "cell_type": "code",
      "metadata": {
        "id": "-vLl5YkPaWoz"
      },
      "source": [
        "def find_ive(tolmax, infA, supA, infb, supb):\n",
        "    \n",
        "    res = np.linalg.cond(infA)\n",
        "    for i in np.arange(infA[0][0], supA[0][0], (supA[0][0]-infA[0][0])/10):\n",
        "        for j in np.arange(infA[0][1], supA[0][1], (supA[0][1]-infA[0][1])/10):\n",
        "            for k in np.arange(infA[0][2], supA[0][2], (supA[0][2]-infA[0][2])/10):\n",
        "                for i1 in np.arange(infA[1][0], supA[1][0], (supA[1][0]-infA[1][0])/10):\n",
        "                    for j1 in np.arange(infA[1][1], supA[1][1], (supA[1][1]-infA[1][1])/10):\n",
        "                        for k1 in np.arange(infA[1][2], supA[1][2], (supA[1][2]-infA[1][2])/10):\n",
        "                            A=[[i,j,k], [i1,j1,k1]]\n",
        "                            c = np.linalg.cond(A)\n",
        "                            if c<res:\n",
        "                                res = c\n",
        "    arg_max = np.linalg.norm(argmax)                        \n",
        "    b_norm = np.linalg.norm((supb + infb) / 2)\n",
        "    \n",
        "    return arg_max * res * tolmax / b_norm"
      ],
      "execution_count": 30,
      "outputs": []
    },
    {
      "cell_type": "code",
      "metadata": {
        "id": "GcNZZiSeaWoz",
        "colab": {
          "base_uri": "https://localhost:8080/"
        },
        "outputId": "ee2fb087-8b21-4aa0-a0e7-deeb1f4b66bd"
      },
      "source": [
        "path_folder = ''\n",
        "\n",
        "infA = np.loadtxt(path_folder + 'infA.txt', ndmin=2)\n",
        "supA = np.loadtxt(path_folder + 'supA.txt', ndmin=2)\n",
        "\n",
        "infb = np.loadtxt(path_folder + 'infb.txt', ndmin=2)\n",
        "supb = np.loadtxt(path_folder + 'supb.txt', ndmin=2)\n",
        "\n",
        "[tolmax, argmax, envs, ccode] = tolsolvty(infA, supA, infb, supb)\n",
        "print('tolmax = ', tolmax)\n",
        "print('argmax = ', argmax)\n",
        "print('envs = ', envs)\n",
        "print('ccode = ', ccode)\n",
        "print('ive = ', find_ive(tolmax, infA, supA, infb, supb))"
      ],
      "execution_count": 31,
      "outputs": [
        {
          "output_type": "stream",
          "text": [
            " \n",
            " Допусковое множество решений интервальной линейной системы непусто \n",
            " \n",
            "tolmax =  [10.57142533]\n",
            "argmax =  [[1.02971857e-08]\n",
            " [1.42857034e+00]\n",
            " [1.63777828e-06]]\n",
            "envs =  [[ 2.         10.57142485]\n",
            " [ 1.         12.71429278]]\n",
            "ccode =  3\n",
            "ive =  [1.70682339]\n"
          ],
          "name": "stdout"
        }
      ]
    },
    {
      "cell_type": "code",
      "metadata": {
        "id": "zFWfvQ0ZaWo0"
      },
      "source": [
        ""
      ],
      "execution_count": null,
      "outputs": []
    }
  ]
}