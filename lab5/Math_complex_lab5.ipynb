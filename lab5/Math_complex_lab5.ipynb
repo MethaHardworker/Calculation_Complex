{
  "nbformat": 4,
  "nbformat_minor": 0,
  "metadata": {
    "colab": {
      "name": "Math_complex_lab5.ipynb",
      "provenance": [],
      "collapsed_sections": [
        "_4OW01a9bZJr",
        "oYV5E0RGXFAq"
      ],
      "toc_visible": true
    },
    "kernelspec": {
      "name": "python3",
      "display_name": "Python 3"
    }
  },
  "cells": [
    {
      "cell_type": "code",
      "metadata": {
        "id": "onTj0CM1H5_i"
      },
      "source": [
        "import numpy as np\r\n",
        "# from tolsolvty import tolsolvty"
      ],
      "execution_count": 24,
      "outputs": []
    },
    {
      "cell_type": "markdown",
      "metadata": {
        "id": "_4OW01a9bZJr"
      },
      "source": [
        "# Функции"
      ]
    },
    {
      "cell_type": "code",
      "metadata": {
        "id": "c_6TonNelUqs"
      },
      "source": [
        "def write_matrix_as_intervals(filename, A):\r\n",
        "  (m, n) = A.shape\r\n",
        "  with open(filename, \"w\") as mtxfile:\r\n",
        "    for i in range(m):\r\n",
        "      for j in range(n):\r\n",
        "        mtxfile.write(str(A[i][j]) + \" \" + str(A[i][j]) + \" \")\r\n",
        "      mtxfile.write(\"\\n\")\r\n",
        "    mtxfile.write(\"\\n\")\r\n",
        "\r\n",
        "\r\n",
        "def write_vector_as_intervals(filename, infb, supb):\r\n",
        "  with open(filename, \"a\") as vfile:\r\n",
        "    for i in range(len(infb)):\r\n",
        "      vfile.write(str(infb[i]) + \" \" + str(supb[i]) + \" \")\r\n",
        "\r\n",
        "\r\n",
        "def write_header(filename, size):\r\n",
        "  with open(filename, \"w\") as mtxfile:\r\n",
        "    mtxfile.write(str(size) + \" 1.E-9      1.     100\")\r\n",
        "    mtxfile.write(\"\\n\\n\")"
      ],
      "execution_count": 25,
      "outputs": []
    },
    {
      "cell_type": "code",
      "metadata": {
        "id": "xpROs2uk21NT"
      },
      "source": [
        "def add_ans_for_bad_matrix(filename):\r\n",
        "  a_file = open(filename, \"r\")\r\n",
        "  lines = a_file.readlines()\r\n",
        "  a_file.close()\r\n",
        "  with open(filename, \"w\") as new_file:\r\n",
        "    dim = 0\r\n",
        "    for line in lines:\r\n",
        "      if \"Dimension\" in line:\r\n",
        "        dim = int(line.split('=')[-1])\r\n",
        "      elif \"matrix\" in line:\r\n",
        "        for _ in range(dim):\r\n",
        "          new_file.write('-1000000000.0, 1000000000.0\\n')\r\n",
        "      else:\r\n",
        "        new_file.write(line)"
      ],
      "execution_count": 26,
      "outputs": []
    },
    {
      "cell_type": "code",
      "metadata": {
        "id": "j63IJh3LR0Yn"
      },
      "source": [
        "def clear_columns(M):\r\n",
        "  leftIndxs = np.arange(18)\r\n",
        "  idx = np.argwhere(np.all(M[..., :] == 0.0, axis=0))\r\n",
        "  M = np.delete(M, idx, axis=1)\r\n",
        "  ind = 18\r\n",
        "  ind = ind - len(idx)\r\n",
        "  leftIndxs = np.delete(leftIndxs, idx)\r\n",
        "  M = M[:ind]\r\n",
        "  while len(idx) > 0:\r\n",
        "    idx = np.argwhere(np.all(M[..., :] == 0.0, axis=0))\r\n",
        "    M = np.delete(M, idx, axis=1)\r\n",
        "    ind = ind - len(idx)\r\n",
        "    leftIndxs = np.delete(leftIndxs, idx)\r\n",
        "    M = M[:ind]\r\n",
        "  return M, ind, leftIndxs\r\n",
        "\r\n",
        "\r\n",
        "def clear_lines(M):\r\n",
        "  return M[~(M==0).all(1)]"
      ],
      "execution_count": 27,
      "outputs": []
    },
    {
      "cell_type": "code",
      "metadata": {
        "id": "DR_zJzstwMBS"
      },
      "source": [
        "def read_inters_on_ind(indSolved, coords, filename, iteration):\r\n",
        "  with open(filename, \"r\") as read_file:\r\n",
        "    for ind_arr in indSolved[iteration]:\r\n",
        "      for i in ind_arr:\r\n",
        "        interval = read_file.readline().split(',')\r\n",
        "        coords[iteration][i] += [np.array(interval).astype(np.double)]"
      ],
      "execution_count": 28,
      "outputs": []
    },
    {
      "cell_type": "code",
      "metadata": {
        "id": "kNFTti5R3zvO"
      },
      "source": [
        "def intersect(a_, b_):\r\n",
        "  if a_ is None:\r\n",
        "    return None\r\n",
        "  if b_ is None:\r\n",
        "    return None \r\n",
        "  if a_[0] > a_[1]:\r\n",
        "    buf = a_[1]\r\n",
        "    a_[1] = a_[0]\r\n",
        "    a_[0] = buf\r\n",
        "  if b_[0] > b_[1]:\r\n",
        "    buf = b_[1]\r\n",
        "    b_[1] = b_[0]\r\n",
        "    b_[0] = buf \r\n",
        "  if a_[1] < b_[0] or b_[1] < a_[0]:\r\n",
        "    return None\r\n",
        "  return np.array([max(a_[0], b_[0]), min(a_[1], b_[1])])"
      ],
      "execution_count": 29,
      "outputs": []
    },
    {
      "cell_type": "markdown",
      "metadata": {
        "id": "DtkTPlBAW-lC"
      },
      "source": [
        "# СубДифф"
      ]
    },
    {
      "cell_type": "code",
      "metadata": {
        "id": "fozpPyJcbOEE"
      },
      "source": [
        "def SubDiffNewton(filename, fileout, Dim, Eps = 1.e-9, Tau = 1, IterLim = 100):\r\n",
        "  DIM = 2*Dim \r\n",
        "  ip = [0 for _ in range(DIM)]\r\n",
        "  F = [[0.0 for _ in range(DIM)] for _ in range(DIM)]\r\n",
        "  x = [_ for _ in range(DIM)]\r\n",
        "  xx = [0.0 for _ in range(DIM)]\r\n",
        "  C = [[0.0 for _ in range(DIM)] for _ in range(Dim)]\r\n",
        "  d = [0.0 for _ in range(DIM)]\r\n",
        "  fo = open(fileout, \"a\")\r\n",
        "\r\n",
        "  def solver():\r\n",
        "    ier=0\r\n",
        "    ip[DIM-1]=1\r\n",
        "    for k in range(DIM-1):\r\n",
        "      m = k\r\n",
        "      p = abs(F[k][k])\r\n",
        "      for i in range(k+1, DIM):\r\n",
        "        q = abs(F[i][k])\r\n",
        "        if p<q: \r\n",
        "          m=i\r\n",
        "          p=q \r\n",
        "      ip[k] = m \r\n",
        "      p=F[m][k]\r\n",
        "      if m != k:\r\n",
        "        ip[DIM-1] = -ip[DIM-1] \r\n",
        "        F[m][k] = F[k][k] \r\n",
        "        F[k][k] = p \r\n",
        "      if p==0: \r\n",
        "        ier=k\r\n",
        "        ip[DIM-1]=0 \r\n",
        "        break\r\n",
        "      p=1./p\r\n",
        "      for i in range(k+1,DIM):\r\n",
        "        F[i][k]*=-p\r\n",
        "      for j in range(k+1,DIM):\r\n",
        "        p=F[m][j]\r\n",
        "        F[m][j]=F[k][j] \r\n",
        "        F[k][j]=p\r\n",
        "        if p!=0: \r\n",
        "          for i in range(k+1,DIM): \r\n",
        "            F[i][j] += F[i][k] * p\r\n",
        "\r\n",
        "    if ier!=0 or F[-1][-1]==0:\r\n",
        "      fo.write(\"Sorry, the interval matrix of the equation is wrong\\n\")\r\n",
        "      return 1\r\n",
        "\r\n",
        "    for k in range(DIM-1):\r\n",
        "      m=ip[k]\r\n",
        "      q=xx[m]\r\n",
        "      xx[m]=xx[k] \r\n",
        "      xx[k]=q\r\n",
        "      for i in range(k+1,DIM):\r\n",
        "        xx[i] += F[i][k]*q\r\n",
        "    for j in range(DIM-1):\r\n",
        "      k=DIM-j-1  \r\n",
        "      xx[k]/=F[k][k]  \r\n",
        "      q=-xx[k]\r\n",
        "      for i in range(k): \r\n",
        "        xx[i]+=F[i][k]*q\r\n",
        "    xx[0] /= F[0][0]    #*xx/=*F\r\n",
        "    return 0\r\n",
        "   \r\n",
        "\r\n",
        " ##################################\r\n",
        "  fi=open(filename,\"r\")\r\n",
        "  if not fi:\r\n",
        "    fo.close()\r\n",
        "    return\r\n",
        "\r\n",
        "\r\n",
        "  #чтение матрицы\r\n",
        "  for i in range(Dim):\r\n",
        "    C[i] = list(map(float, fi.readline().split(' ')[:-1]))\r\n",
        "    for j in range(Dim):\r\n",
        "      u0=C[i][2*j]\r\n",
        "      u1=C[i][2*j+1] \r\n",
        "      p=0.5*(u0+u1)\r\n",
        "      if p>=0.:\r\n",
        "        F[i][j]=p \r\n",
        "        F[i+Dim][j+Dim]=p\r\n",
        "      else:\r\n",
        "        F[i+Dim][j]=p \r\n",
        "        F[i][j+Dim]=p \r\n",
        "  fi.readline()\r\n",
        "  #чтение вектора\r\n",
        "  d = list(map(float, fi.readline().split(' ')[:-1]))\r\n",
        "  for i in range(Dim):\r\n",
        "    xx[i]=d[2*i]  \r\n",
        "    xx[i+Dim]=d[2*i+1]\r\n",
        "    \r\n",
        "  fi.close()\r\n",
        "  if solver(): \r\n",
        "    fo.close()\r\n",
        "    return\r\n",
        "  ni=0\r\n",
        "  q = 1\r\n",
        "  r = 1\r\n",
        "  while r/q>Eps and ni<IterLim :\r\n",
        "    ni+=1\r\n",
        "    r=0  \r\n",
        "    for i in range(DIM):\r\n",
        "      x[i]=xx[i]\r\n",
        "      for j in range(DIM):\r\n",
        "        F[i][j]=0\r\n",
        "    for i in range(Dim):\r\n",
        "        s0=0   \r\n",
        "        s1=0\r\n",
        "        for j in range(Dim):\r\n",
        "          g0=C[i][2*j]\r\n",
        "          g1=C[i][2*j+1] \r\n",
        "          h0=x[j]\r\n",
        "          h1=x[j+Dim]\r\n",
        "\r\n",
        "          if g0*g1>0:\r\n",
        "            l= 0 if g0>0 else 2\r\n",
        "          else: \r\n",
        "            l= 1 if g0<=g1 else 3\r\n",
        "          if h0*h1>0: \r\n",
        "            m= 1 if h0>0 else 3 \r\n",
        "          else: \r\n",
        "            m=2 if h0<=h1 else 4\r\n",
        "\r\n",
        "          # computing multiplication in Kaucher arithmetic,\r\n",
        "          #                   forming the subgradient matrix F   \r\n",
        "          switch = 4*l+m\r\n",
        "          if switch == 1: \r\n",
        "            t0=g0*h0\r\n",
        "            t1=g1*h1\r\n",
        "            F[i][j]=g0\r\n",
        "            F[i+Dim][j+Dim]=g1\r\n",
        "          elif switch == 2: \r\n",
        "            t0=g1*h0 \r\n",
        "            t1=g1*h1\r\n",
        "            F[i][j]=g1 \r\n",
        "            F[i+Dim][j+Dim]=g1\r\n",
        "          elif switch == 3: \r\n",
        "            t0=g1*h0\r\n",
        "            t1=g0*h1\r\n",
        "            F[i][j]=g1 \r\n",
        "            F[i+Dim][j+Dim]=g0\r\n",
        "          elif switch == 4: \r\n",
        "            t0=g0*h0 \r\n",
        "            t1=g0*h1\r\n",
        "            F[i][j]=g0 \r\n",
        "            F[i+Dim][j+Dim]=g0\r\n",
        "          elif switch == 5: \r\n",
        "            t0=g0*h1 \r\n",
        "            t1=g1*h1\r\n",
        "            F[i][j+Dim]=g0 \r\n",
        "            F[i+Dim][j+Dim]=g1\r\n",
        "          elif switch == 6: \r\n",
        "            u0=g0*h1 \r\n",
        "            v0=g1*h0  \r\n",
        "            u1=g0*h0 \r\n",
        "            v1=g1*h1\r\n",
        "            if u0<v0: \r\n",
        "              t0=u0 \r\n",
        "              F[i][j+Dim]=g0\r\n",
        "            else:\r\n",
        "              t0=v0 \r\n",
        "              F[i][j]=g1\r\n",
        "            if u1>v1:\r\n",
        "              t1=u1 \r\n",
        "              F[i+Dim][j]=g0\r\n",
        "            else:\r\n",
        "              t1=v1 \r\n",
        "              F[i+Dim][j+Dim]=g1\r\n",
        "          elif switch == 7: \r\n",
        "            t0=g1*h0 \r\n",
        "            t1=g0*h0\r\n",
        "            F[i][j]=g1 \r\n",
        "            F[i+Dim][j]=g0\r\n",
        "          elif switch == 8: \r\n",
        "            t0=0 \r\n",
        "            t1=0\r\n",
        "          elif switch ==  9: \r\n",
        "            t0=g0*h1 \r\n",
        "            t1=g1*h0\r\n",
        "            F[i][j+Dim]=g0 \r\n",
        "            F[i+Dim][j]=g1\r\n",
        "          elif switch == 10: \r\n",
        "            t0=g0*h1 \r\n",
        "            t1=g0*h0\r\n",
        "            F[i][j+Dim]=g0 \r\n",
        "            F[i+Dim][j]=g0\r\n",
        "          elif switch == 11: \r\n",
        "            t0=g1*h1 \r\n",
        "            t1=g0*h0\r\n",
        "            F[i][j+Dim]=g1 \r\n",
        "            F[i+Dim][j]=g0\r\n",
        "          elif switch == 12: \r\n",
        "            t0=g1*h1 \r\n",
        "            t1=g1*h0\r\n",
        "            F[i][j+Dim]=g1 \r\n",
        "            F[i+Dim][j]=g1\r\n",
        "          elif switch == 13: \r\n",
        "            t0=g0*h0 \r\n",
        "            t1=g1*h0\r\n",
        "            F[i][j]=g0 \r\n",
        "            F[i+Dim][j]=g1\r\n",
        "          elif switch == 14: \r\n",
        "            t0=0 \r\n",
        "            t1=0\r\n",
        "          elif switch == 15: \r\n",
        "            t0=g1*h1 \r\n",
        "            t1=g0*h1\r\n",
        "            F[i][j+Dim]=g1 \r\n",
        "            F[i+Dim][j+Dim]=g0\r\n",
        "          elif switch == 16: \r\n",
        "            u0=g0*h0 \r\n",
        "            v0=g1*h1  \r\n",
        "            u1=g0*h1 \r\n",
        "            v1=g1*h0\r\n",
        "            if u0>v0:\r\n",
        "              t0=u0\r\n",
        "              F[i][j]=g0\r\n",
        "            else:\r\n",
        "              t0=v0 \r\n",
        "              F[i][j+Dim]=g1\r\n",
        "            if u1<v1:\r\n",
        "              t1=u1\r\n",
        "              F[i+Dim][j+Dim]=g0\r\n",
        "            else: \r\n",
        "              t1=v1 \r\n",
        "              F[i+Dim][j]=g1\r\n",
        "          s0+=t0       \r\n",
        "          s1+=t1\r\n",
        "        t0=s0-d[2*i]\r\n",
        "        xx[i]=t0\r\n",
        "        t1=s1-d[2*i+1]\r\n",
        "        xx[i+Dim]=t1\r\n",
        "        t0=abs(t0)\r\n",
        "        t1=abs(t1)\r\n",
        "        r+= t0 if t0>t1 else t1\r\n",
        "\r\n",
        "    if solver(): \r\n",
        "      fo.close()\r\n",
        "      return\r\n",
        "\r\n",
        "    q=0 \r\n",
        "    for i in range(DIM):\r\n",
        "      xx[i]=x[i]-xx[i]*Tau \r\n",
        "      q+=abs(xx[i])\r\n",
        "\r\n",
        "    if q==0:\r\n",
        "      q=1\r\n",
        "    \r\n",
        "  fo.write(\"Dimension = \" + str(Dim) + \"\\n\")  \r\n",
        "  if ni >= IterLim:\r\n",
        "    print(\"Doesn't the method diverge?! \\n\")\r\n",
        "\r\n",
        "  for i in range(Dim):\r\n",
        "    u0= xx[i]  \r\n",
        "    u1=xx[i+Dim]\r\n",
        "    if u0 < u1:\r\n",
        "      fo.write( str(u0) +  \", \" + str(u1) + \"\\n\")\r\n",
        "    else:\r\n",
        "      fo.write(str(u1) + \", \" + str(u0) + \"\\n\")\r\n",
        "  fo.close()\r\n",
        "  return"
      ],
      "execution_count": 30,
      "outputs": []
    },
    {
      "cell_type": "markdown",
      "metadata": {
        "id": "oYV5E0RGXFAq"
      },
      "source": [
        "# work Zone"
      ]
    },
    {
      "cell_type": "code",
      "metadata": {
        "id": "rck7d67ZHT4N"
      },
      "source": [
        "path_folder = ''\r\n",
        "M1 = np.loadtxt(path_folder + 'matrix_n_phi_1.txt')\r\n",
        "#M6 = np.loadtxt(path_folder + 'matrix_n_phi_6.txt')"
      ],
      "execution_count": 31,
      "outputs": []
    },
    {
      "cell_type": "code",
      "metadata": {
        "id": "0C_2XaNaIVBa"
      },
      "source": [
        "M1_lu = M1[0:128,0:18]\r\n",
        "M1_ld = M1[128:, 0:18]\r\n",
        "M1_ru = M1[0:128, 18:]\r\n",
        "M1_rd = M1[128:, 18:]\r\n",
        "M_128_18 = [clear_lines(M1_ld), clear_lines(M1_ru)]"
      ],
      "execution_count": null,
      "outputs": []
    },
    {
      "cell_type": "code",
      "metadata": {
        "id": "f0jePt1YJAkn"
      },
      "source": [
        "#x = [np.array([0.5, 0.75, 1.0, 1.0, 0.75, 0.5, 0.25, 0.5, 0.75, 0.75, 0.5, 0.25, 0.0, 0.25, 0.5, 0.5, 0.25, 0.0]),\r\n",
        "#     np.array([0.0, 0.25, 0.5, 0.5, 0.25, 0.0, 0.25, 0.5, 0.75, 0.75, 0.5, 0.25, 0.5, 0.75, 1.0, 1.0, 0.75, 0.5]),]\r\n",
        "x = [np.random.rand(18), np.random.rand(18)]\r\n",
        "coords = [dict(zip(range(18), [[] for _ in range(18)])), dict(zip(range(18), [[] for _ in range(18)]))]\r\n",
        "indSolved = {0:[], 1:[]}\r\n",
        "for mInd in range(len(M_128_18)):\r\n",
        "  M = M_128_18[mInd]\r\n",
        "  lines = M.shape[0]\r\n",
        "  idxs = np.argsort([np.count_nonzero(M[i]==0) for i in range(len(M))])\r\n",
        "  r = np.random.randint(0, 10, lines)\r\n",
        "  b = M_128_18[0].dot(x[mInd])\r\n",
        "  infb = b - r\r\n",
        "  supb = b + r\r\n",
        "  begin = 0\r\n",
        "  mtx_num = 0\r\n",
        "  while begin < 128:\r\n",
        "    M_work, add, leftInd = clear_columns(M[idxs[begin:begin+18]])\r\n",
        "    if add == 1:\r\n",
        "      coords[mInd][leftInd[0]] += [np.array([infb[idxs[begin]], supb[idxs[begin]]])]\r\n",
        "    else:\r\n",
        "      indSolved[mInd] += [leftInd]\r\n",
        "      s_mtx_num = str(mtx_num) if mtx_num >= 10 else '0' + str(mtx_num)\r\n",
        "      filename = 'matrixpreset.txt'\r\n",
        "      fileout = 'solutions' + str(mInd) + '.txt'\r\n",
        "      if M_work.shape[0] != M_work.shape[1]:\r\n",
        "        print(\"ALERT!\")\r\n",
        "      write_matrix_as_intervals(filename, M_work)\r\n",
        "      write_vector_as_intervals(filename, infb[idxs[begin:begin+add]], supb[idxs[begin:begin+add]])\r\n",
        "      SubDiffNewton(filename, fileout, add)\r\n",
        "    begin += add\r\n",
        "    mtx_num += 1\r\n"
      ],
      "execution_count": 43,
      "outputs": []
    },
    {
      "cell_type": "code",
      "metadata": {
        "id": "xIj8HZ4o0TGE"
      },
      "source": [
        "add_ans_for_bad_matrix(\"solutions0.txt\")\r\n",
        "read_inters_on_ind(indSolved, coords, \"solutions0.txt\", 0)\r\n",
        "ans_inter = []\r\n",
        "for i in range(18):\r\n",
        "  coord = coords[0][i]\r\n",
        "  res_inter = np.array([-float('infinity'), float('infinity')])\r\n",
        "  for inter in coord:\r\n",
        "     res_inter = intersect(res_inter, inter)\r\n",
        "  ans_inter += [res_inter]"
      ],
      "execution_count": 44,
      "outputs": []
    },
    {
      "cell_type": "code",
      "metadata": {
        "id": "h7mKhZeez5Se"
      },
      "source": [
        "with open(\"answer0.txt\", \"w\") as ansFile:\r\n",
        "  ansFile.write('\\n'.join(map(lambda invl: \"[\"+str(invl[0])+\", \"+str(invl[1])+\"]\", ans_inter)))"
      ],
      "execution_count": 45,
      "outputs": []
    },
    {
      "cell_type": "code",
      "metadata": {
        "id": "k7vaJsSy27Ui"
      },
      "source": [
        "add_ans_for_bad_matrix(\"solutions1.txt\")\r\n",
        "read_inters_on_ind(indSolved, coords, \"solutions1.txt\", 1)\r\n",
        "ans_inter = []\r\n",
        "for i in range(18):\r\n",
        "  coord = coords[1][i]\r\n",
        "  res_inter = np.array([-float('infinity'), float('infinity')])\r\n",
        "  for inter in coord:\r\n",
        "    res_inter = intersect(res_inter, inter)\r\n",
        "  ans_inter += [res_inter]"
      ],
      "execution_count": 46,
      "outputs": []
    },
    {
      "cell_type": "code",
      "metadata": {
        "id": "35aXJiz2EL8N"
      },
      "source": [
        "with open(\"answer1.txt\", \"w\") as ansFile:\r\n",
        "  ansFile.write('\\n'.join(map(str, ans_inter)))"
      ],
      "execution_count": 47,
      "outputs": []
    },
    {
      "cell_type": "markdown",
      "metadata": {
        "id": "k5HrNE7Mqgfg"
      },
      "source": [
        "# Test"
      ]
    },
    {
      "cell_type": "code",
      "metadata": {
        "id": "Hy1MHYbd5PVO",
        "colab": {
          "base_uri": "https://localhost:8080/"
        },
        "outputId": "16508dff-e541-4846-d7f0-2d80c8921934"
      },
      "source": [
        "indSolved"
      ],
      "execution_count": 48,
      "outputs": [
        {
          "output_type": "execute_result",
          "data": {
            "text/plain": [
              "{0: [array([ 0,  1,  2,  3,  4,  5,  6,  7,  8,  9, 10, 11, 12, 13, 14, 15, 16,\n",
              "         17]),\n",
              "  array([ 1,  2,  3,  4,  5,  7,  8,  9, 10, 11, 13, 14, 15, 16, 17]),\n",
              "  array([ 2,  3,  4,  5,  7,  8,  9, 10, 11, 14, 15, 16, 17]),\n",
              "  array([ 3,  4,  5,  8,  9, 10, 11, 12, 13, 14, 15, 16, 17]),\n",
              "  array([ 3,  4,  5,  8,  9, 10, 11, 12, 13, 14, 15, 16, 17]),\n",
              "  array([ 5,  9, 10, 11, 12, 13, 14, 15, 16, 17]),\n",
              "  array([ 4,  5, 10, 11, 13, 14, 15, 16, 17]),\n",
              "  array([10, 11, 13, 14, 15, 16, 17]),\n",
              "  array([10, 11, 14, 15, 16, 17]),\n",
              "  array([ 5, 10, 11, 14, 15, 16, 17]),\n",
              "  array([ 5, 11, 15, 16, 17]),\n",
              "  array([11, 16, 17]),\n",
              "  array([11, 16, 17]),\n",
              "  array([16, 17]),\n",
              "  array([16, 17])],\n",
              " 1: [array([ 0,  1,  2,  3,  4,  5,  6,  7,  8,  9, 10, 11, 12, 13, 14, 15, 16,\n",
              "         17]),\n",
              "  array([ 1,  2,  3,  4,  5,  7,  8,  9, 10, 11, 13, 14, 15, 16, 17]),\n",
              "  array([ 0,  1,  2,  3,  4,  5,  7,  8,  9, 10, 11, 14, 15, 16, 17]),\n",
              "  array([ 0,  1,  2,  3,  4,  5,  8,  9, 10, 11, 14, 15, 16, 17]),\n",
              "  array([ 0,  1,  2,  3,  4,  5,  9, 10, 11, 15, 16, 17]),\n",
              "  array([ 0,  1,  2,  3,  4,  5,  9, 10, 11, 16, 17]),\n",
              "  array([ 1,  2,  3,  4,  5, 10, 11, 16, 17]),\n",
              "  array([ 2,  3,  4,  5, 10, 11, 17]),\n",
              "  array([ 2,  3,  4,  5, 10, 11]),\n",
              "  array([ 3,  4,  5, 10, 11, 17]),\n",
              "  array([3, 4, 5]),\n",
              "  array([4, 5]),\n",
              "  array([ 4,  5, 11]),\n",
              "  array([ 5, 11]),\n",
              "  array([ 4,  5, 11])]}"
            ]
          },
          "metadata": {
            "tags": []
          },
          "execution_count": 48
        }
      ]
    },
    {
      "cell_type": "code",
      "metadata": {
        "id": "6nMC51df9Qn1"
      },
      "source": [
        "# SubDiffNewton('matrix00_0preset.txt', 18)"
      ],
      "execution_count": 39,
      "outputs": []
    },
    {
      "cell_type": "code",
      "metadata": {
        "id": "_G384ttVvO-f",
        "colab": {
          "base_uri": "https://localhost:8080/"
        },
        "outputId": "c196e170-aa43-4b04-c2e3-a072d6daf9c0"
      },
      "source": [
        "x"
      ],
      "execution_count": 40,
      "outputs": [
        {
          "output_type": "execute_result",
          "data": {
            "text/plain": [
              "[array([0.82206141, 0.41052593, 0.04569562, 0.83575945, 0.80763117,\n",
              "        0.18202781, 0.48489944, 0.25241295, 0.56828884, 0.59715959,\n",
              "        0.58161962, 0.09472073, 0.18725198, 0.90252498, 0.12344984,\n",
              "        0.39393135, 0.87013628, 0.80093153]),\n",
              " array([0.18226752, 0.2487451 , 0.11079757, 0.25679788, 0.38187201,\n",
              "        0.05632591, 0.23797433, 0.41539752, 0.60185911, 0.08050316,\n",
              "        0.09388879, 0.86595043, 0.56895582, 0.71297194, 0.25636967,\n",
              "        0.92180626, 0.05408199, 0.17488849])]"
            ]
          },
          "metadata": {
            "tags": []
          },
          "execution_count": 40
        }
      ]
    },
    {
      "cell_type": "code",
      "metadata": {
        "id": "gQsoanWufLH6",
        "colab": {
          "base_uri": "https://localhost:8080/"
        },
        "outputId": "b01380b6-5341-40af-bdcc-2791a1827a83"
      },
      "source": [
        "x"
      ],
      "execution_count": 49,
      "outputs": [
        {
          "output_type": "execute_result",
          "data": {
            "text/plain": [
              "[array([0.85610068, 0.12096295, 0.162609  , 0.14276898, 0.75959448,\n",
              "        0.66404941, 0.67896661, 0.911243  , 0.40014403, 0.59206531,\n",
              "        0.01133804, 0.01351949, 0.9852865 , 0.00196384, 0.68612229,\n",
              "        0.81365491, 0.566142  , 0.44656741]),\n",
              " array([0.25228871, 0.24131221, 0.42276963, 0.72062277, 0.56978137,\n",
              "        0.38908608, 0.36936801, 0.20905303, 0.75409801, 0.28342636,\n",
              "        0.43686531, 0.68193439, 0.94032853, 0.90555051, 0.30569502,\n",
              "        0.9831685 , 0.02526371, 0.69512677])]"
            ]
          },
          "metadata": {
            "tags": []
          },
          "execution_count": 49
        }
      ]
    }
  ]
}