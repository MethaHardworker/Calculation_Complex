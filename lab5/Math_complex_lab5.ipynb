{
  "nbformat": 4,
  "nbformat_minor": 0,
  "metadata": {
    "colab": {
      "name": "Math_complex_lab5.ipynb",
      "provenance": [],
      "collapsed_sections": []
    },
    "kernelspec": {
      "name": "python3",
      "display_name": "Python 3"
    }
  },
  "cells": [
    {
      "cell_type": "code",
      "metadata": {
        "id": "onTj0CM1H5_i"
      },
      "source": [
        "import numpy as np\r\n",
        "# from tolsolvty import tolsolvty"
      ],
      "execution_count": 1,
      "outputs": []
    },
    {
      "cell_type": "code",
      "metadata": {
        "id": "c_6TonNelUqs"
      },
      "source": [
        "def write_matrix_as_intervals(filename, A):\r\n",
        "  (m, n) = A.shape\r\n",
        "  with open(filename, \"a\") as mtxfile:\r\n",
        "    for i in range(m):\r\n",
        "      for j in range(n):\r\n",
        "        mtxfile.write(str(A[i][j]) + \"  \" + str(A[i][j]) + \"  \")\r\n",
        "      mtxfile.write(\"\\n\")\r\n",
        "    mtxfile.write(\"\\n\")\r\n",
        "\r\n",
        "\r\n",
        "def write_vector_as_intervals(filename, infb, supb):\r\n",
        "  with open(filename, \"a\") as vfile:\r\n",
        "    for i in range(len(infb)):\r\n",
        "      vfile.write(str(infb[i]) + \"  \" + str(supb[i]) + \"  \")\r\n",
        "\r\n",
        "\r\n",
        "def write_header(filename, size):\r\n",
        "  with open(filename, \"w\") as mtxfile:\r\n",
        "    mtxfile.write(str(size) + \" 1.E-9      1.     100\")\r\n",
        "    mtxfile.write(\"\\n\\n\")"
      ],
      "execution_count": 2,
      "outputs": []
    },
    {
      "cell_type": "code",
      "metadata": {
        "id": "xpROs2uk21NT"
      },
      "source": [
        "def add_ans_for_bad_matrix(filename):\r\n",
        "  a_file = open(filename, \"r\")\r\n",
        "  lines = a_file.readlines()\r\n",
        "  a_file.close()\r\n",
        "  with open(filename, \"w\") as new_file:\r\n",
        "    dim = 0\r\n",
        "    for line in lines:\r\n",
        "      if \"Dimension\" in line:\r\n",
        "        dim = int(line.split('=')[-1])\r\n",
        "      elif \"matrix\" in line:\r\n",
        "        for _ in range(dim):\r\n",
        "          new_file.write('-1000000000.0, 1000000000.0\\n')\r\n",
        "      else:\r\n",
        "        new_file.write(line)"
      ],
      "execution_count": 3,
      "outputs": []
    },
    {
      "cell_type": "code",
      "metadata": {
        "id": "j63IJh3LR0Yn"
      },
      "source": [
        "def clear_columns(M):\r\n",
        "  leftIndxs = np.arange(18)\r\n",
        "  idx = np.argwhere(np.all(M[..., :] == 0.0, axis=0))\r\n",
        "  M = np.delete(M, idx, axis=1)\r\n",
        "  ind = 18\r\n",
        "  ind = ind - len(idx)\r\n",
        "  leftIndxs = np.delete(leftIndxs, idx)\r\n",
        "  M = M[:ind]\r\n",
        "  while len(idx) > 0:\r\n",
        "    idx = np.argwhere(np.all(M[..., :] == 0.0, axis=0))\r\n",
        "    M = np.delete(M, idx, axis=1)\r\n",
        "    ind = ind - len(idx)\r\n",
        "    leftIndxs = np.delete(leftIndxs, idx)\r\n",
        "    M = M[:ind]\r\n",
        "  return M, ind, leftIndxs\r\n",
        "\r\n",
        "\r\n",
        "def clear_lines(M):\r\n",
        "  return M[~(M==0).all(1)]"
      ],
      "execution_count": 4,
      "outputs": []
    },
    {
      "cell_type": "code",
      "metadata": {
        "id": "DR_zJzstwMBS"
      },
      "source": [
        "def read_inters_on_ind(indSolved, coords, filename, iteration):\r\n",
        "  with open(filename, \"r\") as read_file:\r\n",
        "    for ind_arr in indSolved[iteration]:\r\n",
        "      for i in ind_arr:\r\n",
        "        interval = read_file.readline().split(',')\r\n",
        "        coords[iteration][i] += [np.array(interval).astype(np.double)]"
      ],
      "execution_count": 5,
      "outputs": []
    },
    {
      "cell_type": "code",
      "metadata": {
        "id": "kNFTti5R3zvO"
      },
      "source": [
        "def intersect(a_, b_):\r\n",
        "  if a_ is None:\r\n",
        "    return None\r\n",
        "  if b_ is None:\r\n",
        "    return None \r\n",
        "  if a_[0] > a_[1]:\r\n",
        "    buf = a_[1]\r\n",
        "    a_[1] = a_[0]\r\n",
        "    a_[0] = buf\r\n",
        "  if b_[0] > b_[1]:\r\n",
        "    buf = b_[1]\r\n",
        "    b_[1] = b_[0]\r\n",
        "    b_[0] = buf \r\n",
        "  if a_[1] < b_[0] or b_[1] < a_[0]:\r\n",
        "    return None\r\n",
        "  return np.array([max(a_[0], b_[0]), min(a_[1], b_[1])])"
      ],
      "execution_count": 6,
      "outputs": []
    },
    {
      "cell_type": "code",
      "metadata": {
        "id": "rck7d67ZHT4N"
      },
      "source": [
        "path_folder = ''\r\n",
        "M1 = np.loadtxt(path_folder + 'matrix_n_phi_1.txt')\r\n",
        "M6 = np.loadtxt(path_folder + 'matrix_n_phi_6.txt')"
      ],
      "execution_count": 14,
      "outputs": []
    },
    {
      "cell_type": "code",
      "metadata": {
        "id": "0C_2XaNaIVBa"
      },
      "source": [
        "M1_lu = M1[0:128,0:18]\r\n",
        "M1_ld = M1[128:, 0:18]\r\n",
        "M1_ru = M1[0:128, 18:]\r\n",
        "M1_rd = M1[128:, 18:]"
      ],
      "execution_count": 15,
      "outputs": []
    },
    {
      "cell_type": "code",
      "metadata": {
        "colab": {
          "base_uri": "https://localhost:8080/"
        },
        "id": "QeU4cqetOaH2",
        "outputId": "4e95ab6d-edf0-4035-82f5-310fb34c0c3c"
      },
      "source": [
        "M_128_18 = [clear_lines(M1_ld), clear_lines(M1_ru)]\r\n",
        "M_128_18[1].shape"
      ],
      "execution_count": 16,
      "outputs": [
        {
          "output_type": "execute_result",
          "data": {
            "text/plain": [
              "(128, 18)"
            ]
          },
          "metadata": {
            "tags": []
          },
          "execution_count": 16
        }
      ]
    },
    {
      "cell_type": "code",
      "metadata": {
        "id": "f0jePt1YJAkn"
      },
      "source": [
        "xs = np.array([])\r\n",
        "coords = [dict(zip(range(18), [[] for _ in range(18)])), dict(zip(range(18), [[] for _ in range(18)]))]\r\n",
        "indSolved = {0:[], 1:[]}\r\n",
        "for mInd in range(len(M_128_18)):\r\n",
        "  M = M_128_18[mInd]\r\n",
        "  lines = M.shape[0]\r\n",
        "  idxs = np.argsort([np.count_nonzero(M[i]==0) for i in range(len(M))])\r\n",
        "  x = np.array(np.random.randint(1, 10, 18))\r\n",
        "  r = np.random.randint(1, 5, lines)\r\n",
        "  xs = np.append(xs, x)\r\n",
        "  b = M_128_18[0].dot(x)\r\n",
        "  infb = b - r\r\n",
        "  supb = b + r\r\n",
        "  begin = 0\r\n",
        "  mtx_num = 0\r\n",
        "  while begin < 128:\r\n",
        "    M_work, add, leftInd = clear_columns(M[idxs[begin:begin+18]])\r\n",
        "    if add == 1:\r\n",
        "      coords[mInd][leftInd[0]] += [np.array([infb[idxs[begin]], supb[idxs[begin]]])]\r\n",
        "    else:\r\n",
        "      indSolved[mInd] += [leftInd]\r\n",
        "      s_mtx_num = str(mtx_num) if mtx_num >= 10 else '0' + str(mtx_num)\r\n",
        "      filename = 'matrix' + s_mtx_num + '_' + str(mInd) + '.txt'\r\n",
        "      # write_header(filename, add)\r\n",
        "      if M_work.shape[0] != M_work.shape[1]:\r\n",
        "        print(\"ALERT!\")\r\n",
        "      # write_matrix_as_intervals(filename, M_work)\r\n",
        "      # write_vector_as_intervals(filename, infb[idxs[begin:begin+add]], supb[idxs[begin:begin+add]])\r\n",
        "    begin += add\r\n",
        "    mtx_num += 1\r\n",
        "    #_x[i] = solve(M_work, infb[idxs[i:i+18]], supb[idxs[i:i+18]]) "
      ],
      "execution_count": 17,
      "outputs": []
    },
    {
      "cell_type": "code",
      "metadata": {
        "id": "xIj8HZ4o0TGE"
      },
      "source": [
        "add_ans_for_bad_matrix(\"solutions0.txt\")\r\n",
        "read_inters_on_ind(indSolved, coords, \"solutions0.txt\", 0)\r\n",
        "ans_inter = []\r\n",
        "for i in range(18):\r\n",
        "  coord = coords[0][i]\r\n",
        "  res_inter = np.array([-float('infinity'), float('infinity')])\r\n",
        "  for inter in coord:\r\n",
        "    res_inter = intersect(res_inter, inter)\r\n",
        "  ans_inter += [res_inter]"
      ],
      "execution_count": 18,
      "outputs": []
    },
    {
      "cell_type": "code",
      "metadata": {
        "id": "h7mKhZeez5Se"
      },
      "source": [
        "with open(\"answer0.txt\", \"w\") as ansFile:\r\n",
        "  ansFile.write(' '.join(map(str, ans_inter)))"
      ],
      "execution_count": 19,
      "outputs": []
    },
    {
      "cell_type": "code",
      "metadata": {
        "id": "k7vaJsSy27Ui"
      },
      "source": [
        "add_ans_for_bad_matrix(\"solutions1.txt\")\r\n",
        "read_inters_on_ind(indSolved, coords, \"solutions1.txt\", 1)\r\n",
        "ans_inter = []\r\n",
        "for i in range(18):\r\n",
        "  coord = coords[1][i]\r\n",
        "  res_inter = np.array([-float('infinity'), float('infinity')])\r\n",
        "  for inter in coord:\r\n",
        "    res_inter = intersect(res_inter, inter)\r\n",
        "  ans_inter += [res_inter]"
      ],
      "execution_count": 20,
      "outputs": []
    },
    {
      "cell_type": "code",
      "metadata": {
        "id": "35aXJiz2EL8N"
      },
      "source": [
        "with open(\"answer1.txt\", \"w\") as ansFile:\r\n",
        "  ansFile.write(' '.join(map(str, ans_inter)))"
      ],
      "execution_count": 21,
      "outputs": []
    },
    {
      "cell_type": "code",
      "metadata": {
        "id": "Hy1MHYbd5PVO"
      },
      "source": [
        "coords[0]"
      ],
      "execution_count": null,
      "outputs": []
    },
    {
      "cell_type": "code",
      "metadata": {
        "colab": {
          "base_uri": "https://localhost:8080/"
        },
        "id": "6nMC51df9Qn1",
        "outputId": "22e4798e-40fd-4971-dc99-ab353cf464da"
      },
      "source": [
        "print(xs)"
      ],
      "execution_count": 32,
      "outputs": [
        {
          "output_type": "stream",
          "text": [
            "[8. 7. 5. 5. 1. 9. 6. 5. 9. 2. 2. 5. 5. 1. 8. 8. 2. 7. 7. 1. 6. 5. 1. 6.\n",
            " 9. 7. 5. 1. 6. 4. 2. 5. 6. 3. 2. 8.]\n"
          ],
          "name": "stdout"
        }
      ]
    },
    {
      "cell_type": "code",
      "metadata": {
        "id": "fUlLm-CTgdZe"
      },
      "source": [
        ""
      ],
      "execution_count": 32,
      "outputs": []
    },
    {
      "cell_type": "code",
      "metadata": {
        "id": "klkkzWOFyjrV"
      },
      "source": [
        ""
      ],
      "execution_count": 32,
      "outputs": []
    }
  ]
}